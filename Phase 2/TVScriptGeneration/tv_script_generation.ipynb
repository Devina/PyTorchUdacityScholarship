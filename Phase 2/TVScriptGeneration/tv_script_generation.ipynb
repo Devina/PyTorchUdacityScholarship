{
 "cells": [
  {
   "cell_type": "markdown",
   "metadata": {},
   "source": [
    "# TV Script Generation\n",
    "\n",
    "In this project, an own version of [Seinfeld](https://en.wikipedia.org/wiki/Seinfeld) TV scripts using RNNs will be created. Parts of the [Seinfeld dataset](https://www.kaggle.com/thec03u5/seinfeld-chronicles#scripts.csv) of scripts from 9 seasons is used.  The Neural Network built will generate a new, \"fake\" TV script, based on patterns it recognises in this training data.\n"
   ]
  },
  {
   "cell_type": "code",
   "execution_count": 1,
   "metadata": {},
   "outputs": [],
   "source": [
    "# Load in data\n",
    "import helper\n",
    "data_dir = './data/Seinfeld_Scripts.txt'\n",
    "text = helper.load_data(data_dir)"
   ]
  },
  {
   "cell_type": "code",
   "execution_count": 2,
   "metadata": {},
   "outputs": [],
   "source": [
    "# Imports\n",
    "import torch\n",
    "import torch.nn as nn\n",
    "import torch.nn.functional as F\n",
    "from torch.utils.data import TensorDataset, DataLoader\n",
    "from torch.autograd import Variable\n",
    "from torch.nn.utils import clip_grad_norm_\n",
    "import numpy as np\n",
    "import helper\n",
    "import problem_unittests as tests\n",
    "import re\n",
    "from collections import Counter"
   ]
  },
  {
   "cell_type": "markdown",
   "metadata": {},
   "source": [
    "## Explore the Data\n",
    "Looking around `view_line_range` to view different parts of the data. This gives a sense of the data that will be worked with. It can be seen, for example, that it is all lowercase text, and each new line of dialogue is separated by a newline character `\\n`."
   ]
  },
  {
   "cell_type": "code",
   "execution_count": 3,
   "metadata": {},
   "outputs": [
    {
     "name": "stdout",
     "output_type": "stream",
     "text": [
      "Dataset Stats\n",
      "Roughly the number of unique words: 46367\n",
      "Number of lines: 109233\n",
      "Average number of words in each line: 5.544240293684143\n",
      "\n",
      "The lines 0 to 10:\n",
      "jerry: do you know what this is all about? do you know, why were here? to be out, this is out...and out is one of the single most enjoyable experiences of life. people...did you ever hear people talking about we should go out? this is what theyre talking about...this whole thing, were all out now, no one is home. not one person here is home, were all out! there are people trying to find us, they dont know where we are. (on an imaginary phone) did you ring?, i cant find him. where did he go? he didnt tell me where he was going. he must have gone out. you wanna go out you get ready, you pick out the clothes, right? you take the shower, you get all ready, get the cash, get your friends, the car, the spot, the reservation...then youre standing around, what do you do? you go we gotta be getting back. once youre out, you wanna get back! you wanna go to sleep, you wanna get up, you wanna go out again tomorrow, right? where ever you are in life, its my feeling, youve gotta go. \n",
      "\n",
      "jerry: (pointing at georges shirt) see, to me, that button is in the worst possible spot. the second button literally makes or breaks the shirt, look at it. its too high! its in no-mans-land. you look like you live with your mother. \n",
      "\n",
      "george: are you through? \n",
      "\n",
      "jerry: you do of course try on, when you buy? \n",
      "\n",
      "george: yes, it was purple, i liked it, i dont actually recall considering the buttons. \n",
      "\n"
     ]
    }
   ],
   "source": [
    "view_line_range = (0, 10)\n",
    "\n",
    "print('Dataset Stats')\n",
    "print('Roughly the number of unique words: {}'.format(len({word: None for word in text.split()})))\n",
    "\n",
    "lines = text.split('\\n')\n",
    "print('Number of lines: {}'.format(len(lines)))\n",
    "word_count_line = [len(line.split()) for line in lines]\n",
    "print('Average number of words in each line: {}'.format(np.average(word_count_line)))\n",
    "\n",
    "print()\n",
    "print('The lines {} to {}:'.format(*view_line_range))\n",
    "print('\\n'.join(text.split('\\n')[view_line_range[0]:view_line_range[1]]))"
   ]
  },
  {
   "cell_type": "markdown",
   "metadata": {},
   "source": [
    "---\n",
    "## Implement Pre-processing Functions\n",
    "The first thing to do to any dataset is pre-processing.  Implement the following pre-processing functions below:\n",
    "- Lookup Table\n",
    "- Tokenize Punctuation\n",
    "\n",
    "### Lookup Table\n",
    "To create a word embedding, first need to transform the words to ids.  In this function, two dictionaries are created:\n",
    "- Dictionary to go from the words to an id, we'll call `vocab_to_int`\n",
    "- Dictionary to go from the id to word, we'll call `int_to_vocab`\n",
    "\n",
    "These dictionaries are returned in the following **tuple** `(vocab_to_int, int_to_vocab)`"
   ]
  },
  {
   "cell_type": "code",
   "execution_count": 4,
   "metadata": {},
   "outputs": [
    {
     "name": "stdout",
     "output_type": "stream",
     "text": [
      "Tests Passed\n"
     ]
    }
   ],
   "source": [
    "def create_lookup_tables(text):\n",
    "    \"\"\"\n",
    "    Create lookup tables for vocabulary\n",
    "    :param text: The text of tv scripts split into words\n",
    "    :return: A tuple of dicts (vocab_to_int, int_to_vocab)\n",
    "    \"\"\"\n",
    "    vocab = tuple(set(text))\n",
    "    int_to_vocab = dict(enumerate(vocab))\n",
    "    vocab_to_int = {ch: ii for ii, ch in int_to_vocab.items()}\n",
    "    return (vocab_to_int, int_to_vocab)\n",
    "\n",
    "tests.test_create_lookup_tables(create_lookup_tables)"
   ]
  },
  {
   "cell_type": "markdown",
   "metadata": {},
   "source": [
    "### Tokenize Punctuation\n",
    "The script will be splitting into a word array using spaces as delimiters.  However, punctuations like periods and exclamation marks can create multiple ids for the same word. For example, \"bye\" and \"bye!\" would generate two different word ids.\n",
    "\n",
    "Therefore, the function `token_lookup` is implemented to return a dict that will be used to tokenize symbols like \"!\" into \"||Exclamation_Mark||\".  A dictionary is created for the following symbols where the symbol is the key and value is the token:\n",
    "- Period ( **.** )\n",
    "- Comma ( **,** )\n",
    "- Quotation Mark ( **\"** )\n",
    "- Semicolon ( **;** )\n",
    "- Exclamation mark ( **!** )\n",
    "- Question mark ( **?** )\n",
    "- Left Parentheses ( **(** )\n",
    "- Right Parentheses ( **)** )\n",
    "- Dash ( **-** )\n",
    "- Return ( **\\n** )\n",
    "\n",
    "This dictionary will be used to tokenize the symbols and add the delimiter (space) around it.  This separates each symbols as its own word, making it easier for the neural network to predict the next word. Confusion to prevent value as a word needs to be accounted for; for example, instead of using the value \"dash\", something like \"||dash||\" can be used."
   ]
  },
  {
   "cell_type": "code",
   "execution_count": 5,
   "metadata": {},
   "outputs": [
    {
     "name": "stdout",
     "output_type": "stream",
     "text": [
      "Tests Passed\n"
     ]
    }
   ],
   "source": [
    "def token_lookup():\n",
    "    \"\"\"\n",
    "    Generate a dict to turn punctuation into a token.\n",
    "    :return: Tokenized dictionary where the key is the punctuation and the value is the token\n",
    "    \"\"\"       \n",
    "    return {\n",
    "        '.': '||Period||',\n",
    "        ',': '||Comma||',\n",
    "        '\"': '||Quotation_Mark||',\n",
    "        ';': '||Semicolon||',\n",
    "        '!': '||Exclamation_Mark||',\n",
    "        '?': '||Question_Mark||',\n",
    "        '(': '||Left_Parentheses||',\n",
    "        ')': '||Right_Parentheses||',\n",
    "        '-': '||Dash||',\n",
    "        '\\n': '||Return||',\n",
    "    }\n",
    "\n",
    "tests.test_tokenize(token_lookup)"
   ]
  },
  {
   "cell_type": "markdown",
   "metadata": {},
   "source": [
    "## Pre-process all the data and save it\n",
    "\n",
    "Running the code cell below will pre-process all the data and save it to file. The code for `preprocess_and_save_data` in the `helpers.py` file is used. "
   ]
  },
  {
   "cell_type": "code",
   "execution_count": 6,
   "metadata": {},
   "outputs": [],
   "source": [
    "# Pre-process training data\n",
    "helper.preprocess_and_save_data(data_dir, token_lookup, create_lookup_tables)"
   ]
  },
  {
   "cell_type": "markdown",
   "metadata": {},
   "source": [
    "# Check Point\n",
    "This is the first checkpoint. If ever decided to come back to this notebook or have to restart the notebook, it can be started from here. The preprocessed data has been saved to disk."
   ]
  },
  {
   "cell_type": "code",
   "execution_count": 7,
   "metadata": {},
   "outputs": [],
   "source": [
    "int_text, vocab_to_int, int_to_vocab, token_dict = helper.load_preprocess()"
   ]
  },
  {
   "cell_type": "markdown",
   "metadata": {},
   "source": [
    "## Build the Neural Network\n",
    "In this section, the components necessary to build an RNN by implementing the RNN Module and forward and backpropagation functions will be built.\n",
    "\n",
    "### Check Access to GPU"
   ]
  },
  {
   "cell_type": "code",
   "execution_count": 8,
   "metadata": {},
   "outputs": [],
   "source": [
    "# Check for GPU\n",
    "device = 'cuda' if torch.cuda.is_available() else 'cpu'\n",
    "train_on_gpu = torch.cuda.is_available()\n",
    "if not train_on_gpu:\n",
    "    print('No GPU found. Please use a GPU to train the neural network.')"
   ]
  },
  {
   "cell_type": "markdown",
   "metadata": {},
   "source": [
    "## Input\n",
    "Let's start with the preprocessed input data. [TensorDataset](http://pytorch.org/docs/master/data.html#torch.utils.data.TensorDataset) is used to provide a known format to the dataset; in combination with [DataLoader](http://pytorch.org/docs/master/data.html#torch.utils.data.DataLoader), it will handle batching, shuffling, and other dataset iteration functions.\n",
    "\n",
    "Data can be created with TensorDataset by passing in feature and target tensors. Then create a DataLoader as usual.\n",
    "```\n",
    "data = TensorDataset(feature_tensors, target_tensors)\n",
    "data_loader = torch.utils.data.DataLoader(data, \n",
    "                                          batch_size=batch_size)\n",
    "```\n",
    "\n",
    "### Batching\n",
    "The `batch_data` function to batch `words` data into chunks of size `batch_size` using the `TensorDataset` and `DataLoader` classes is implemented.\n",
    "\n",
    ">DataLoader can be used to batch words. `feature_tensors` and `target_tensors` of the correct size are created and content for a given `sequence_length`.\n",
    "\n",
    "For example, say this is the input:\n",
    "```\n",
    "words = [1, 2, 3, 4, 5, 6, 7]\n",
    "sequence_length = 4\n",
    "```\n",
    "\n",
    "The first `feature_tensor` could contain the values:\n",
    "```\n",
    "[1, 2, 3, 4]\n",
    "```\n",
    "And the corresponding `target_tensor` would just be the next \"word\"/tokenized word value:\n",
    "```\n",
    "5\n",
    "```\n",
    "This should continue with the second `feature_tensor`, `target_tensor` being:\n",
    "```\n",
    "[2, 3, 4, 5]  # features\n",
    "6             # target\n",
    "```"
   ]
  },
  {
   "cell_type": "code",
   "execution_count": 9,
   "metadata": {},
   "outputs": [],
   "source": [
    "def batch_data(words, sequence_length, batch_size):\n",
    "    \"\"\"\n",
    "    Batch the neural network data using DataLoader\n",
    "    :param words: The word ids of the TV scripts\n",
    "    :param sequence_length: The sequence length of each batch\n",
    "    :param batch_size: The size of each batch; the number of sequences in a batch\n",
    "    :return: DataLoader with batched data\n",
    "    \"\"\"\n",
    "    feature_tensors = []\n",
    "    target_tensors = []\n",
    "    \n",
    "    for i in range(len(words) - sequence_length - 1):\n",
    "        feature_tensors.append(words[i:i+sequence_length])\n",
    "        target_tensors.append(words[i+sequence_length])\n",
    "\n",
    "    feature_tensors = torch.Tensor(feature_tensors)\n",
    "    target_tensors = torch.Tensor(target_tensors)\n",
    "\n",
    "    data = TensorDataset(feature_tensors, target_tensors)\n",
    "    data_loader = torch.utils.data.DataLoader(data, batch_size=batch_size, shuffle=True)\n",
    "    return data_loader"
   ]
  },
  {
   "cell_type": "markdown",
   "metadata": {},
   "source": [
    "### Test the dataloader \n",
    "\n",
    "A batching function will be tested here.\n",
    "\n",
    "Below, some test is generating text data and defining a dataloader using the function defined above. Then, some sample batch of inputs `sample_x` and targets `sample_y` are obtained from the dataloader.\n",
    "\n",
    "The code would return something like the following (likely in a different order, if data is shuffled):\n",
    "\n",
    "```\n",
    "torch.Size([10, 5])\n",
    "tensor([[ 28,  29,  30,  31,  32],\n",
    "        [ 21,  22,  23,  24,  25],\n",
    "        [ 17,  18,  19,  20,  21],\n",
    "        [ 34,  35,  36,  37,  38],\n",
    "        [ 11,  12,  13,  14,  15],\n",
    "        [ 23,  24,  25,  26,  27],\n",
    "        [  6,   7,   8,   9,  10],\n",
    "        [ 38,  39,  40,  41,  42],\n",
    "        [ 25,  26,  27,  28,  29],\n",
    "        [  7,   8,   9,  10,  11]])\n",
    "\n",
    "torch.Size([10])\n",
    "tensor([ 33,  26,  22,  39,  16,  28,  11,  43,  30,  12])\n",
    "```\n",
    "\n",
    "### Sizes\n",
    "sample_x will be of size `(batch_size, sequence_length)` or (10, 5) in this case and sample_y has one dimension: batch_size (10). \n",
    "\n",
    "### Values\n",
    "\n",
    "Notice that the targets, sample_y, are the *next* value in the ordered test_text data. So, for an input sequence `[ 28,  29,  30,  31,  32]` that ends with the value `32`, the corresponding output should be `33`."
   ]
  },
  {
   "cell_type": "code",
   "execution_count": 10,
   "metadata": {},
   "outputs": [
    {
     "name": "stdout",
     "output_type": "stream",
     "text": [
      "torch.Size([10, 5])\n",
      "tensor([[  5.,   6.,   7.,   8.,   9.],\n",
      "        [ 13.,  14.,  15.,  16.,  17.],\n",
      "        [ 15.,  16.,  17.,  18.,  19.],\n",
      "        [ 24.,  25.,  26.,  27.,  28.],\n",
      "        [ 28.,  29.,  30.,  31.,  32.],\n",
      "        [  3.,   4.,   5.,   6.,   7.],\n",
      "        [ 37.,  38.,  39.,  40.,  41.],\n",
      "        [  8.,   9.,  10.,  11.,  12.],\n",
      "        [ 23.,  24.,  25.,  26.,  27.],\n",
      "        [ 40.,  41.,  42.,  43.,  44.]])\n",
      "\n",
      "torch.Size([10])\n",
      "tensor([ 10.,  18.,  20.,  29.,  33.,   8.,  42.,  13.,  28.,  45.])\n"
     ]
    }
   ],
   "source": [
    "# Test dataloader\n",
    "\n",
    "test_text = range(50)\n",
    "t_loader = batch_data(test_text, sequence_length=5, batch_size=10)\n",
    "\n",
    "data_iter = iter(t_loader)\n",
    "sample_x, sample_y = data_iter.next()\n",
    "\n",
    "print(sample_x.shape)\n",
    "print(sample_x)\n",
    "print()\n",
    "print(sample_y.shape)\n",
    "print(sample_y)"
   ]
  },
  {
   "cell_type": "markdown",
   "metadata": {},
   "source": [
    "---\n",
    "## Build the Neural Network\n",
    "An RNN using PyTorch's [Module class](http://pytorch.org/docs/master/nn.html#torch.nn.Module) will be implemented. A GRU or an LSTM is possible chosen options. To complete the RNN, the following functions are implemented for the class:\n",
    " - `__init__` - The initialize function. \n",
    " - `init_hidden` - The initialization function for an LSTM/GRU hidden state\n",
    " - `forward` - Forward propagation function.\n",
    " \n",
    "The initialize function should create the layers of the neural network and save them to the class. The forward propagation function will use these layers to run forward propagation and generate an output and a hidden state.\n",
    "\n",
    "**The output of this model should be the *last* batch of word scores** after a complete sequence has been processed. That is, for each input sequence of words, only want to output the word scores for a single, most likely, next word.\n",
    "\n",
    "### Notes\n",
    "\n",
    "1. Stack the outputs of the lstm to pass to the fully-connected layer. This can be done with `lstm_output = lstm_output.contiguous().view(-1, self.hidden_dim)`\n",
    "2. Obtain the last batch of word scores by shaping the output of the final, fully-connected layer like so:\n",
    "\n",
    "```\n",
    "# reshape into (batch_size, seq_length, output_size)\n",
    "output = output.view(batch_size, -1, self.output_size)\n",
    "# get last batch\n",
    "out = output[:, -1]\n",
    "```"
   ]
  },
  {
   "cell_type": "code",
   "execution_count": 11,
   "metadata": {},
   "outputs": [
    {
     "name": "stdout",
     "output_type": "stream",
     "text": [
      "Tests Passed\n"
     ]
    }
   ],
   "source": [
    "class RNN(nn.Module):\n",
    "    \n",
    "    def __init__(self, vocab_size, output_size, embedding_dim, hidden_dim, n_layers, dropout=0.5):\n",
    "        \"\"\"\n",
    "        Initialize the PyTorch RNN Module\n",
    "        :param vocab_size: The number of input dimensions of the neural network (the size of the vocabulary)\n",
    "        :param output_size: The number of output dimensions of the neural network\n",
    "        :param embedding_dim: The size of embeddings, should you choose to use them        \n",
    "        :param hidden_dim: The size of the hidden layer outputs\n",
    "        :param dropout: dropout to add in between LSTM/GRU layers\n",
    "        \"\"\"\n",
    "        super(RNN, self).__init__()\n",
    "        \n",
    "        # Set class variables\n",
    "        self.vocab_size = vocab_size\n",
    "        self.output_size = output_size\n",
    "        self.embedding_dim = embedding_dim\n",
    "        self.hidden_dim = hidden_dim\n",
    "        self.n_layers = n_layers\n",
    "        self.dropout = dropout\n",
    "        \n",
    "        # Define model layers\n",
    "        self.embedding = nn.Embedding(vocab_size, embedding_dim)\n",
    "        self.lstm = nn.LSTM(embedding_dim, hidden_dim, n_layers, dropout=dropout, batch_first=True)\n",
    "        self.linear = nn.Linear(hidden_dim, output_size)\n",
    "    \n",
    "    def forward(self, nn_input, hidden):\n",
    "        \"\"\"\n",
    "        Forward propagation of the neural network\n",
    "        :param nn_input: The input to the neural network\n",
    "        :param hidden: The hidden state        \n",
    "        :return: Two Tensors, the output of the neural network and the latest hidden state\n",
    "        \"\"\"        \n",
    "        nn_input = nn_input.long()\n",
    "        batch_size = nn_input.size(0)\n",
    "        lstm_output, hidden = self.lstm(self.embedding(nn_input), hidden)\n",
    "        lstm_output = lstm_output.contiguous().view(-1, self.hidden_dim)\n",
    "        output = self.linear(lstm_output)\n",
    "        output = output.view(batch_size, -1, self.output_size)\n",
    "        out = output[:, -1]\n",
    "        return out, hidden\n",
    "    \n",
    "    def init_hidden(self, batch_size):\n",
    "        '''\n",
    "        Initialize the hidden state of an LSTM/GRU\n",
    "        :param batch_size: The batch_size of the hidden state\n",
    "        :return: hidden state of dims (n_layers, batch_size, hidden_dim)\n",
    "        '''\n",
    "        return (Variable(torch.zeros(self.n_layers, batch_size, self.hidden_dim)).to(device),\n",
    "               Variable(torch.zeros(self.n_layers, batch_size, self.hidden_dim)).to(device))\n",
    "\n",
    "\n",
    "tests.test_rnn(RNN, train_on_gpu)"
   ]
  },
  {
   "cell_type": "markdown",
   "metadata": {},
   "source": [
    "### Define forward and backpropagation\n",
    "\n",
    "The RNN class implemented will be used to apply forward and back propagation. This function will be called, iteratively, in the training loop as follows:\n",
    "```\n",
    "loss = forward_back_prop(decoder, decoder_optimizer, criterion, inp, target)\n",
    "```\n",
    "\n",
    "It returns the average loss over a batch and the hidden state returned by a call to `RNN(inp, hidden)`. By computing it, the loss is gained, as usual, and calling `loss.item()`.\n",
    "\n",
    "**If a GPU is available, data should moved to to that GPU device, here.**"
   ]
  },
  {
   "cell_type": "code",
   "execution_count": 12,
   "metadata": {},
   "outputs": [
    {
     "name": "stdout",
     "output_type": "stream",
     "text": [
      "Tests Passed\n"
     ]
    }
   ],
   "source": [
    "def forward_back_prop(rnn, optimizer, criterion, inp, target, hidden):\n",
    "    \"\"\"\n",
    "    Forward and backward propagation on the neural network\n",
    "    :param decoder: The PyTorch Module that holds the neural network\n",
    "    :param decoder_optimizer: The PyTorch optimizer for the neural network\n",
    "    :param criterion: The PyTorch loss function\n",
    "    :param inp: A batch of input to the neural network\n",
    "    :param target: The target output for the batch of input\n",
    "    :return: The loss and the latest hidden state Tensor\n",
    "    \"\"\"\n",
    "    # Move data to GPU, if available\n",
    "    inp = inp.to(device)\n",
    "    target = target.to(device)\n",
    "    hidden = tuple([layer.data.to(device) for layer in hidden])\n",
    "\n",
    "    optimizer.zero_grad()\n",
    "    \n",
    "    output, hidden = rnn(inp, hidden)\n",
    "    \n",
    "    # Perform backpropagation and optimization\n",
    "    target = target.long()\n",
    "    loss = criterion(output, target)\n",
    "    loss.backward()\n",
    "    \n",
    "    clip_factor = 10\n",
    "    clip_grad_norm_(rnn.parameters(), clip_factor)\n",
    "    optimizer.step()\n",
    "    \n",
    "    # Return the loss over a batch and the hidden state produced by our model\n",
    "    return loss.item(), hidden\n",
    "\n",
    "tests.test_forward_back_prop(RNN, forward_back_prop, train_on_gpu)"
   ]
  },
  {
   "cell_type": "markdown",
   "metadata": {},
   "source": [
    "## Neural Network Training\n",
    "\n",
    "With the structure of the network complete and data ready to be fed in the neural network, it's time to train it.\n",
    "\n",
    "### Train Loop\n",
    "\n",
    "The training loop is implemented in the `train_decoder` function. This function will train the network over all the batches for the number of epochs given. The model progress will be shown every number of batches. This number is set with the `show_every_n_batches` parameter. This parameter is set along with other parameters in the next section."
   ]
  },
  {
   "cell_type": "code",
   "execution_count": 13,
   "metadata": {},
   "outputs": [],
   "source": [
    "def train_rnn(rnn, batch_size, optimizer, criterion, n_epochs, show_every_n_batches=100):\n",
    "    batch_losses = []\n",
    "    \n",
    "    rnn.train()\n",
    "\n",
    "    print(\"Training for %d epoch(s)...\" % n_epochs)\n",
    "    for epoch_i in range(1, n_epochs + 1):\n",
    "        \n",
    "        # Initialize hidden state\n",
    "        hidden = rnn.init_hidden(batch_size)\n",
    "        \n",
    "        for batch_i, (inputs, labels) in enumerate(train_loader, 1):\n",
    "            \n",
    "            # Make sure to iterate over completely full batches, only\n",
    "            n_batches = len(train_loader.dataset)//batch_size\n",
    "            if(batch_i > n_batches):\n",
    "                break\n",
    "            \n",
    "            # Forward, Back prop\n",
    "            loss, hidden = forward_back_prop(rnn, optimizer, criterion, inputs, labels, hidden)          \n",
    "            # Record loss\n",
    "            batch_losses.append(loss)\n",
    "\n",
    "            # Printing loss stats\n",
    "            if batch_i % show_every_n_batches == 0:\n",
    "                print('Epoch: {:>4}/{:<4}  Loss: {}\\n'.format(\n",
    "                    epoch_i, n_epochs, np.average(batch_losses)))\n",
    "                batch_losses = []\n",
    "\n",
    "    # Returns a trained rnn\n",
    "    return rnn"
   ]
  },
  {
   "cell_type": "markdown",
   "metadata": {},
   "source": [
    "### Hyperparameters\n",
    "\n",
    "Set and train the neural network with the following parameters:\n",
    "- Set `sequence_length` to the length of a sequence.\n",
    "- Set `batch_size` to the batch size.\n",
    "- Set `num_epochs` to the number of epochs to train for.\n",
    "- Set `learning_rate` to the learning rate for an Adam optimizer.\n",
    "- Set `vocab_size` to the number of uniqe tokens in our vocabulary.\n",
    "- Set `output_size` to the desired size of the output.\n",
    "- Set `embedding_dim` to the embedding dimension; smaller than the vocab_size.\n",
    "- Set `hidden_dim` to the hidden dimension of your RNN.\n",
    "- Set `n_layers` to the number of layers/cells in your RNN.\n",
    "- Set `show_every_n_batches` to the number of batches at which the neural network should print progress.\n",
    "\n",
    "If the network isn't getting the desired results, tweak these parameters and/or the layers in the `RNN` class."
   ]
  },
  {
   "cell_type": "code",
   "execution_count": 14,
   "metadata": {},
   "outputs": [],
   "source": [
    "# Data params\n",
    "# Sequence Length\n",
    "sequence_length = 15  # Number of words in a sequence\n",
    "# Batch Size\n",
    "batch_size = 256\n",
    "\n",
    "# Data loader\n",
    "train_loader = batch_data(int_text, sequence_length, batch_size)"
   ]
  },
  {
   "cell_type": "code",
   "execution_count": 15,
   "metadata": {},
   "outputs": [],
   "source": [
    "# Training parameters\n",
    "# Number of Epochs\n",
    "num_epochs = 10\n",
    "# Learning Rate\n",
    "learning_rate = 0.001\n",
    "\n",
    "# Model parameters\n",
    "# Vocab size\n",
    "vocab_size = len(vocab_to_int)\n",
    "# Output size\n",
    "output_size = len(vocab_to_int)\n",
    "# Embedding Dimension\n",
    "embedding_dim = 256\n",
    "# Hidden Dimension\n",
    "hidden_dim = 256\n",
    "# Number of RNN Layers\n",
    "n_layers = 2\n",
    "\n",
    "# Show stats for every n number of batches\n",
    "show_every_n_batches = 500"
   ]
  },
  {
   "cell_type": "markdown",
   "metadata": {},
   "source": [
    "### Train\n",
    "In the next cell, the neural network is trained on the pre-processed data.  If a good loss isn't obtained easily, the hyperparameters may need to be changed. In general, better results are obtained with larger hidden and n_layer dimensions, but larger models take a longer time to train. \n",
    "> **Aim should be for a loss less than 3.5.** \n",
    "\n",
    "Different sequence lengths should be experimented, which determine the size of the long range dependencies that a model can learn."
   ]
  },
  {
   "cell_type": "code",
   "execution_count": 16,
   "metadata": {},
   "outputs": [
    {
     "name": "stdout",
     "output_type": "stream",
     "text": [
      "Training for 10 epoch(s)...\n",
      "Epoch:    1/10    Loss: 5.487971757888794\n",
      "\n",
      "Epoch:    1/10    Loss: 4.741044304847717\n",
      "\n",
      "Epoch:    1/10    Loss: 4.528067712783813\n",
      "\n",
      "Epoch:    1/10    Loss: 4.388593851089477\n",
      "\n",
      "Epoch:    1/10    Loss: 4.2928066825866695\n",
      "\n",
      "Epoch:    1/10    Loss: 4.234217581748962\n",
      "\n",
      "Epoch:    2/10    Loss: 4.1187964103570796\n",
      "\n",
      "Epoch:    2/10    Loss: 4.030122438907624\n",
      "\n",
      "Epoch:    2/10    Loss: 4.0007367186546325\n",
      "\n",
      "Epoch:    2/10    Loss: 3.9840150423049927\n",
      "\n",
      "Epoch:    2/10    Loss: 3.9588888349533082\n",
      "\n",
      "Epoch:    2/10    Loss: 3.9276961307525635\n",
      "\n",
      "Epoch:    3/10    Loss: 3.8665127131512493\n",
      "\n",
      "Epoch:    3/10    Loss: 3.7920917444229127\n",
      "\n",
      "Epoch:    3/10    Loss: 3.7802991976737976\n",
      "\n",
      "Epoch:    3/10    Loss: 3.7877189717292787\n",
      "\n",
      "Epoch:    3/10    Loss: 3.7715495085716246\n",
      "\n",
      "Epoch:    3/10    Loss: 3.779752869129181\n",
      "\n",
      "Epoch:    4/10    Loss: 3.7091773116007083\n",
      "\n",
      "Epoch:    4/10    Loss: 3.6477814621925355\n",
      "\n",
      "Epoch:    4/10    Loss: 3.637330244064331\n",
      "\n",
      "Epoch:    4/10    Loss: 3.657658308506012\n",
      "\n",
      "Epoch:    4/10    Loss: 3.6495180263519287\n",
      "\n",
      "Epoch:    4/10    Loss: 3.6652362394332885\n",
      "\n",
      "Epoch:    5/10    Loss: 3.591570484444378\n",
      "\n",
      "Epoch:    5/10    Loss: 3.5369295330047605\n",
      "\n",
      "Epoch:    5/10    Loss: 3.5388192672729493\n",
      "\n",
      "Epoch:    5/10    Loss: 3.5513282141685485\n",
      "\n",
      "Epoch:    5/10    Loss: 3.5545294466018675\n",
      "\n",
      "Epoch:    5/10    Loss: 3.557318946838379\n",
      "\n",
      "Epoch:    6/10    Loss: 3.496610342729382\n",
      "\n",
      "Epoch:    6/10    Loss: 3.458454556941986\n",
      "\n",
      "Epoch:    6/10    Loss: 3.4449057097435\n",
      "\n",
      "Epoch:    6/10    Loss: 3.4691586780548094\n",
      "\n",
      "Epoch:    6/10    Loss: 3.487063123703003\n",
      "\n",
      "Epoch:    6/10    Loss: 3.4835048308372496\n",
      "\n",
      "Epoch:    7/10    Loss: 3.4238328143833128\n",
      "\n",
      "Epoch:    7/10    Loss: 3.3883746528625487\n",
      "\n",
      "Epoch:    7/10    Loss: 3.3856204352378847\n",
      "\n",
      "Epoch:    7/10    Loss: 3.3922220096588136\n",
      "\n",
      "Epoch:    7/10    Loss: 3.418331243991852\n",
      "\n",
      "Epoch:    7/10    Loss: 3.427303698539734\n",
      "\n",
      "Epoch:    8/10    Loss: 3.3671446619479637\n",
      "\n",
      "Epoch:    8/10    Loss: 3.327017677783966\n",
      "\n",
      "Epoch:    8/10    Loss: 3.3360496034622193\n",
      "\n",
      "Epoch:    8/10    Loss: 3.33651402759552\n",
      "\n",
      "Epoch:    8/10    Loss: 3.3485602283477784\n",
      "\n",
      "Epoch:    8/10    Loss: 3.372977792263031\n",
      "\n",
      "Epoch:    9/10    Loss: 3.319590679029139\n",
      "\n",
      "Epoch:    9/10    Loss: 3.26701882982254\n",
      "\n",
      "Epoch:    9/10    Loss: 3.288076210975647\n",
      "\n",
      "Epoch:    9/10    Loss: 3.2865498304367065\n",
      "\n",
      "Epoch:    9/10    Loss: 3.3134571361541747\n",
      "\n",
      "Epoch:    9/10    Loss: 3.3273656401634217\n",
      "\n",
      "Epoch:   10/10    Loss: 3.268284033226773\n",
      "\n",
      "Epoch:   10/10    Loss: 3.226526618003845\n",
      "\n",
      "Epoch:   10/10    Loss: 3.2420650749206543\n",
      "\n",
      "Epoch:   10/10    Loss: 3.259087737560272\n",
      "\n",
      "Epoch:   10/10    Loss: 3.2793702440261843\n",
      "\n",
      "Epoch:   10/10    Loss: 3.285872745990753\n",
      "\n"
     ]
    },
    {
     "name": "stderr",
     "output_type": "stream",
     "text": [
      "/opt/conda/lib/python3.6/site-packages/torch/serialization.py:193: UserWarning: Couldn't retrieve source code for container of type RNN. It won't be checked for correctness upon loading.\n",
      "  \"type \" + obj.__name__ + \". It won't be checked \"\n"
     ]
    },
    {
     "name": "stdout",
     "output_type": "stream",
     "text": [
      "Model Trained and Saved\n"
     ]
    }
   ],
   "source": [
    "# Create model and move to gpu if available\n",
    "rnn = RNN(vocab_size, output_size, embedding_dim, hidden_dim, n_layers, dropout=0.5)\n",
    "if train_on_gpu:\n",
    "    rnn.cuda()\n",
    "\n",
    "# Defining loss and optimization functions for training\n",
    "optimizer = torch.optim.Adam(rnn.parameters(), lr=learning_rate)\n",
    "criterion = nn.CrossEntropyLoss()\n",
    "\n",
    "# Training the model\n",
    "trained_rnn = train_rnn(rnn, batch_size, optimizer, criterion, num_epochs, show_every_n_batches)\n",
    "\n",
    "# Saving the trained model\n",
    "helper.save_model('./save/trained_rnn', trained_rnn)\n",
    "print('Model Trained and Saved')"
   ]
  },
  {
   "cell_type": "markdown",
   "metadata": {},
   "source": [
    "### Question: How was the model hyperparameters decided? \n",
    "For example, was a different sequence_lengths tried and find that one size made the model converge faster? What about  hidden_dim and n_layers; how were those decided?"
   ]
  },
  {
   "cell_type": "markdown",
   "metadata": {},
   "source": [
    "**Answer:** \n",
    "* `vocab_size` and `output_size` are number of unique words in the vocabulary.\n",
    "* `embedding_dim` and `hidden_dim` are 256, value which are of the power of 2. The recommendation is in the range 200 and 500. \n",
    "* `learning_rate` - 0.001, 0.005, 0.01, 0.05, were tried and 0.001 provided the best result. \n",
    "* `num_epochs` - 10 was chosen but between 6-7 would have been sufficient too. The extra epoch would just increase the accuracy, but it had to be ensured the model is not being overtrained. 10 was satisfactory for this reason.\n",
    "* `batch_size` - The value is high enough to train efficiently while also avoiding GPU memory overload.\n",
    "* `sequence_length` - At 20, the model was taking longer to converge, therefore 15 works well."
   ]
  },
  {
   "cell_type": "markdown",
   "metadata": {},
   "source": [
    "---\n",
    "# Checkpoint\n",
    "\n",
    "After running the above training cell, the model will be saved by name, `trained_rnn`, and if saved notebook progress, **the process can be paused here and come back to this code at another time**. Resume the progress by running the next cell, which will load in the word:id dictionaries _and_ load in the saved model by name!"
   ]
  },
  {
   "cell_type": "code",
   "execution_count": 17,
   "metadata": {},
   "outputs": [],
   "source": [
    "_, vocab_to_int, int_to_vocab, token_dict = helper.load_preprocess()\n",
    "trained_rnn = helper.load_model('./save/trained_rnn')"
   ]
  },
  {
   "cell_type": "markdown",
   "metadata": {},
   "source": [
    "## Generate TV Script\n",
    "With the network trained and saved, it is used to generate a new, \"fake\" Seinfeld TV script in this section.\n",
    "\n",
    "### Generate Text\n",
    "To generate the text, the network needs to start with a single word and repeat its predictions until it reaches a set length. The `generate` function is used to do this. It takes a word id to start with, `prime_id`, and generates a set length of text, `predict_len`. Also note that it uses topk sampling to introduce some randomness in choosing the most likely next word, given an output set of word scores!"
   ]
  },
  {
   "cell_type": "code",
   "execution_count": 18,
   "metadata": {},
   "outputs": [],
   "source": [
    "def generate(rnn, prime_id, int_to_vocab, token_dict, pad_value, predict_len=100):\n",
    "    \"\"\"\n",
    "    Generate text using the neural network\n",
    "    :param decoder: The PyTorch Module that holds the trained neural network\n",
    "    :param prime_id: The word id to start the first prediction\n",
    "    :param int_to_vocab: Dict of word id keys to word values\n",
    "    :param token_dict: Dict of puncuation tokens keys to puncuation values\n",
    "    :param pad_value: The value used to pad a sequence\n",
    "    :param predict_len: The length of text to generate\n",
    "    :return: The generated text\n",
    "    \"\"\"\n",
    "    rnn.eval()\n",
    "    \n",
    "    # Create a sequence (batch_size=1) with the prime_id\n",
    "    current_seq = np.full((1, sequence_length), pad_value)\n",
    "    current_seq[-1][-1] = prime_id\n",
    "    predicted = [int_to_vocab[prime_id]]\n",
    "    \n",
    "    for _ in range(predict_len):\n",
    "        if train_on_gpu:\n",
    "            current_seq = torch.LongTensor(current_seq).cuda()\n",
    "        else:\n",
    "            current_seq = torch.LongTensor(current_seq)\n",
    "        \n",
    "        # Initialize the hidden state\n",
    "        hidden = rnn.init_hidden(current_seq.size(0))\n",
    "        \n",
    "        # Get the output of the rnn\n",
    "        output, _ = rnn(current_seq, hidden)\n",
    "        \n",
    "        # Get the next word probabilities\n",
    "        p = F.softmax(output, dim=1).data\n",
    "        if(train_on_gpu):\n",
    "            p = p.cpu() # move to cpu\n",
    "         \n",
    "        # Use top_k sampling to get the index of the next word\n",
    "        top_k = 5\n",
    "        p, top_i = p.topk(top_k)\n",
    "        top_i = top_i.numpy().squeeze()\n",
    "        \n",
    "        # Select the likely next word index with some element of randomness\n",
    "        p = p.numpy().squeeze()\n",
    "        word_i = np.random.choice(top_i, p=p/p.sum())\n",
    "        \n",
    "        # Retrieve that word from the dictionary\n",
    "        word = int_to_vocab[word_i]\n",
    "        predicted.append(word)     \n",
    "        \n",
    "        # The generated word becomes the next \"current sequence\" and the cycle can continue\n",
    "        current_seq = np.roll(current_seq, -1, 1)\n",
    "        current_seq[-1][-1] = word_i\n",
    "    \n",
    "    gen_sentences = ' '.join(predicted)\n",
    "    \n",
    "    # Replace punctuation tokens\n",
    "    for key, token in token_dict.items():\n",
    "        ending = ' ' if key in ['\\n', '(', '\"'] else ''\n",
    "        gen_sentences = gen_sentences.replace(' ' + token.lower(), key)\n",
    "    gen_sentences = gen_sentences.replace('\\n ', '\\n')\n",
    "    gen_sentences = gen_sentences.replace('( ', '(')\n",
    "    \n",
    "    # Return all the sentences\n",
    "    return gen_sentences"
   ]
  },
  {
   "cell_type": "markdown",
   "metadata": {},
   "source": [
    "### Generate a New Script\n",
    "It's time to generate the text. Set `gen_length` to the length of TV script needed to generate and set `prime_word` to one of the following to start the prediction:\n",
    "- \"jerry\"\n",
    "- \"elaine\"\n",
    "- \"george\"\n",
    "- \"kramer\"\n",
    "\n",
    "The prime word is set to _any word_ in the dictionary, but it's best to start with a name for generating a TV script. (It can also start with any other names found in the original text file!)"
   ]
  },
  {
   "cell_type": "code",
   "execution_count": 38,
   "metadata": {},
   "outputs": [
    {
     "name": "stderr",
     "output_type": "stream",
     "text": [
      "/opt/conda/lib/python3.6/site-packages/ipykernel_launcher.py:57: UserWarning: RNN module weights are not part of single contiguous chunk of memory. This means they need to be compacted at every call, possibly greatly increasing memory usage. To compact weights again call flatten_parameters().\n"
     ]
    },
    {
     "name": "stdout",
     "output_type": "stream",
     "text": [
      "jerry: he addresses her glistening spell the bullseye.\n",
      "\n",
      "jerry: i can't believe that i said.\n",
      "\n",
      "kramer:(to jerry) yeah!\n",
      "\n",
      "kramer: oh, you know i was just wondering if i can have a mantel, and you could have gone back in the building.\n",
      "\n",
      "jerry: no, i don't think we should get the money.\n",
      "\n",
      "elaine: well, i didn't want to hear that.\n",
      "\n",
      "elaine:(to jerry) you know, it's a lot better than me, but i'm going out to get a new bedspread.\n",
      "\n",
      "jerry:(to elaine) yeah, well, i think i can do that.\n",
      "\n",
      "elaine: well, what do you want?\n",
      "\n",
      "george: i know...\n",
      "\n",
      "elaine: what?!\n",
      "\n",
      "kramer:(smiling) well, i don't think so.\n",
      "\n",
      "george: you didn't know that?!?\n",
      "\n",
      "kramer: yeah.\n",
      "\n",
      "elaine: yeah, yeah.\n",
      "\n",
      "george: i know... i don't know what it costs.\n",
      "\n",
      "george: i don't know, but i think you can see me.\n",
      "\n",
      "george: well, i was thinking about that.\n",
      "\n",
      "george: you don't think i should go.\n",
      "\n",
      "jerry: i know, i can't believe it! i can't do it!!\n",
      "\n",
      "jerry: what?\n",
      "\n",
      "george: i can't believe that you can get me in the car and then i don't know what i am.\n",
      "\n",
      "jerry: you know, you know, i have no proof.(she exits)\n",
      "\n",
      "jerry:(to jerry) yeah, yeah.\n",
      "\n",
      "jerry:(to elaine) you know...\n",
      "\n",
      "jerry: what do you mean? you got a look at the wedding invitations?\n",
      "\n",
      "george: i don't think you should get the hell out of my mind, you know, it's a very good thing.\n",
      "\n",
      "george: well, i didn't have it.\n",
      "\n",
      "elaine:(to elaine) i can't believe it, i don't know if i was gonna get it, i don't care about\n"
     ]
    }
   ],
   "source": [
    "# Run the cell multiple times to get different results!\n",
    "gen_length = 400 # Modify the length to preference\n",
    "prime_word = 'jerry' # Name for starting the script\n",
    "\n",
    "pad_word = helper.SPECIAL_WORDS['PADDING']\n",
    "generated_script = generate(trained_rnn, vocab_to_int[prime_word + ':'], int_to_vocab, token_dict, vocab_to_int[pad_word], gen_length)\n",
    "print(generated_script)"
   ]
  },
  {
   "cell_type": "markdown",
   "metadata": {},
   "source": [
    "#### Save the favorite scripts\n",
    "\n",
    "Once a script that is liked (or found interesting) is obtained, save it to a text file!"
   ]
  },
  {
   "cell_type": "code",
   "execution_count": 39,
   "metadata": {},
   "outputs": [],
   "source": [
    "# Save script to a text file\n",
    "f =  open(\"generated_script_1.txt\",\"w\")\n",
    "f.write(generated_script)\n",
    "f.close()"
   ]
  },
  {
   "cell_type": "markdown",
   "metadata": {},
   "source": [
    "# The TV Script is Not Perfect\n",
    "The TV script may make perfect sense. It should look like alternating lines of dialogue, here is one such example of a few generated lines.\n",
    "\n",
    "### Example generated script\n",
    "\n",
    ">jerry: what about me?\n",
    ">\n",
    ">jerry: i don't have to wait.\n",
    ">\n",
    ">kramer:(to the sales table)\n",
    ">\n",
    ">elaine:(to jerry) hey, look at this, i'm a good doctor.\n",
    ">\n",
    ">newman:(to elaine) you think i have no idea of this...\n",
    ">\n",
    ">elaine: oh, you better take the phone, and he was a little nervous.\n",
    ">\n",
    ">kramer:(to the phone) hey, hey, jerry, i don't want to be a little bit.(to kramer and jerry) you can't.\n",
    ">\n",
    ">jerry: oh, yeah. i don't even know, i know.\n",
    ">\n",
    ">jerry:(to the phone) oh, i know.\n",
    ">\n",
    ">kramer:(laughing) you know...(to jerry) you don't know.\n",
    "\n",
    "It can be seen that there are multiple characters that say (somewhat) complete sentences, but it doesn't have to be perfect! It takes quite a while to get good results, and often, a smaller vocabulary has to be used (and discard uncommon words), or get more data.  The Seinfeld dataset is about 3.4 MB, which is big enough for the purposes; for script generation more than 1 MB of text is needed, generally. "
   ]
  },
  {
   "cell_type": "code",
   "execution_count": null,
   "metadata": {},
   "outputs": [],
   "source": []
  }
 ],
 "metadata": {
  "kernelspec": {
   "display_name": "Python 3",
   "language": "python",
   "name": "python3"
  },
  "language_info": {
   "codemirror_mode": {
    "name": "ipython",
    "version": 3
   },
   "file_extension": ".py",
   "mimetype": "text/x-python",
   "name": "python",
   "nbconvert_exporter": "python",
   "pygments_lexer": "ipython3",
   "version": "3.7.0"
  },
  "widgets": {
   "state": {},
   "version": "1.1.2"
  }
 },
 "nbformat": 4,
 "nbformat_minor": 1
}
